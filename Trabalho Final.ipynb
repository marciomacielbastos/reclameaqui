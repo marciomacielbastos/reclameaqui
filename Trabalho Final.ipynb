{
 "metadata": {
  "name": ""
 },
 "nbformat": 3,
 "nbformat_minor": 0,
 "worksheets": [
  {
   "cells": [
    {
     "cell_type": "code",
     "collapsed": false,
     "input": [
      "import re\n",
      "import pandas as pd\n",
      "import numpy as np\n",
      "import time\n",
      "import os\n",
      "import Image\n",
      "import pytesseract\n",
      "import pylab as pl\n",
      "import matplotlib.pyplot as plt\n",
      "from selenium import webdriver\n",
      "import scipy.stats as ss\n",
      "from selenium.webdriver.common.keys import Keys\n",
      "%pylab inline"
     ],
     "language": "python",
     "metadata": {},
     "outputs": [
      {
       "output_type": "stream",
       "stream": "stdout",
       "text": [
        "Populating the interactive namespace from numpy and matplotlib\n"
       ]
      }
     ],
     "prompt_number": 30
    },
    {
     "cell_type": "code",
     "collapsed": false,
     "input": [
      "driver = webdriver.Firefox()\n",
      "pagina='http://www.reclameaqui.com.br/ranking/'\n",
      "driver.get(pagina)"
     ],
     "language": "python",
     "metadata": {},
     "outputs": [],
     "prompt_number": 90
    },
    {
     "cell_type": "code",
     "collapsed": false,
     "input": [
      "#driver = webdriver.Firefox()\n",
      "#pagina='http://www.reclameaqui.com.br/ranking/'\n",
      "#driver.get(pagina)\n",
      "#time.sleep(5)\n",
      "#driver.get(driver.find_element_by_xpath('//*[@id=\"tabela-ranking\"]/tbody/tr[14]/td/div/table[1]/tbody/tr/td/a').get_attribute(\"href\"))\n",
      "#time.sleep(5)\n",
      "#driver.get(driver.find_element_by_xpath('//*[@id=\"reclamacoes-empresa\"]/div/div[2]/div/div/ul/li/a').get_attribute(\"href\"))\n",
      "#time.sleep(5)\n",
      "#driver.get(driver.find_element_by_xpath('//*[@id=\"todo-conteudo-resultado\"]/div/div/center/div/ul/li[7]/a').get_attribute(\"href\"))\n",
      "#time.sleep(5)\n",
      "#breakCaptha(driver)\n",
      "#time.sleep(5)\n",
      "#driver.get('http://www.google.com')\n",
      "#driver.quit()"
     ],
     "language": "python",
     "metadata": {},
     "outputs": [],
     "prompt_number": 89
    },
    {
     "cell_type": "code",
     "collapsed": false,
     "input": [
      "def scrapRanking(arg):\n",
      "    try:\n",
      "        for i in range(20):\n",
      "            arg['business'][i]=driver.find_element_by_xpath('//*[@id=\"tabela-ranking\"]/tbody/tr[14]/td/div/table['+str(i+1)+']/tbody/tr/td/a').get_attribute(\"title\")\n",
      "            arg['href'][i]=driver.find_element_by_xpath('//*[@id=\"tabela-ranking\"]/tbody/tr[14]/td/div/table['+str(i+1)+']/tbody/tr/td/a').get_attribute(\"href\")\n",
      "    except:\n",
      "        return arg"
     ],
     "language": "python",
     "metadata": {},
     "outputs": [],
     "prompt_number": 91
    },
    {
     "cell_type": "code",
     "collapsed": false,
     "input": [
      "ranking=pd.DataFrame(np.zeros((0,2)))\n",
      "ranking.columns=['business','href']\n",
      "scrapRanking(ranking)"
     ],
     "language": "python",
     "metadata": {},
     "outputs": [],
     "prompt_number": 92
    },
    {
     "cell_type": "code",
     "collapsed": false,
     "input": [
      "meses = [u'Janeiro', u'Fevereiro', u'Mar\u00e7o', u'Abril', u'Maio', u'Junho', u'Julho', u'Agosto', u'Setembro', u'Outubro', u'Novembro', u'Dezembro']"
     ],
     "language": "python",
     "metadata": {},
     "outputs": [],
     "prompt_number": 107
    },
    {
     "cell_type": "code",
     "collapsed": false,
     "input": [
      "def setDate(txt):\n",
      "    for i in range(12):\n",
      "        txt = txt.replace(meses[i],u'0'+str(i+1))\n",
      "        txt = txt.replace(u'de', '-')\n",
      "        match = re.search(r'\\d{2} - \\d{2} - \\d{4} - \\d{2}:\\d{2}', txt)\n",
      "    return match, txt"
     ],
     "language": "python",
     "metadata": {},
     "outputs": [],
     "prompt_number": 99
    },
    {
     "cell_type": "code",
     "collapsed": false,
     "input": [
      "def getDate(arg):\n",
      "    match,txt = setDate(arg)\n",
      "    date = time.strptime(match.group().replace(\" \",\"\"), '%d-%m-%Y-%H:%M')\n",
      "    return date"
     ],
     "language": "python",
     "metadata": {},
     "outputs": [],
     "prompt_number": 100
    },
    {
     "cell_type": "code",
     "collapsed": false,
     "input": [
      "def getPlace(arg):\n",
      "    match, arg = setDate(arg)\n",
      "    arg = arg.replace(match.group(),\"\")\n",
      "    m = re.match(r\"(\\w+)-(\\w+)\", text).group(0)\n",
      "    arg = arg.replace(m,\"\")\n",
      "    match = re.search(r', , ', arg)\n",
      "    arg = arg.replace(match.group(),\"\")\n",
      "    return arg"
     ],
     "language": "python",
     "metadata": {},
     "outputs": [],
     "prompt_number": 101
    },
    {
     "cell_type": "code",
     "collapsed": false,
     "input": [
      "def breakCaptha(wd):\n",
      "    try:\n",
      "        oldtab = wd.current_window_handle\n",
      "        body = wd.find_element_by_tag_name(\"body\")\n",
      "        body.send_keys(Keys.CONTROL + 't')\n",
      "        wd.get('http://www.reclameaqui.com.br/indices/lista_reclamacoes/captcha.php')\n",
      "        #You have to create the folder /captcha\n",
      "        wd.save_screenshot(\"../marcim/captcha/screenshot.png\")\n",
      "        wd.find_element_by_tag_name(\"body\").send_keys(Keys.ALT + Keys.NUMPAD1)\n",
      "        wd.switch_to_window(oldtab)\n",
      "        captcha = pytesseract.image_to_string(Image.open('../marcim/captcha/screenshot.png'), config=\"-psm 6\")\n",
      "        cp = driver.find_element_by_name('captcha')\n",
      "        cp.send_keys(captcha)\n",
      "        wd.find_element_by_xpath('//*[@id=\"reclamacoes-empresa\"]/div/div[2]/div/div[2]/ul/div/div/form/input[2]').click()\n",
      "    except:\n",
      "        print \"Didn't broke the captcha\""
     ],
     "language": "python",
     "metadata": {},
     "outputs": [],
     "prompt_number": 102
    },
    {
     "cell_type": "markdown",
     "metadata": {},
     "source": [
      "In order to gain performance, we prefer to get a list of URLs in third level of scraping, and then visit them. This already give us O(n\u00b3), if we had choose to scrap the fourth level, we would get a O(n\u2074) of complexity order."
     ]
    },
    {
     "cell_type": "code",
     "collapsed": false,
     "input": [
      "def thirdLevelScrap(i):\n",
      "    try:\n",
      "        subsubtable = pd.DataFrame(np.zeros((0,3)))\n",
      "        for j in range(20):\n",
      "            subsubtable['business'][j] = ranking['business'][i]\n",
      "            subsubtable['url'][j] = driver.find_element_by_xpath('//*[@id=\"reclamacoes-empresa\"]/div/div[2]/div/div[2]/ul/li['+str(j+1)+']/h3/a').get_attribute(\"href\")\n",
      "            text = driver.find_element_by_xpath('//*[@id=\"reclamacoes-empresa\"]/div/div[2]/div/div[2]/ul/li['+str(j+1)+']/span')\n",
      "            subsubtable['date'][j] = setDate(text)\n",
      "            subsubtable['place'][j] = setPlace(text)\n",
      "            return subtable\n",
      "    except:\n",
      "            #Break the captcha and goes on\n",
      "            breakCaptha(driver.current_url())\n",
      "            subsubtable = thirdLevelScrap(i)\n",
      "            return subsubtable"
     ],
     "language": "python",
     "metadata": {},
     "outputs": [],
     "prompt_number": 104
    },
    {
     "cell_type": "code",
     "collapsed": false,
     "input": [
      "def secondLevelScrap(i):\n",
      "    try:\n",
      "        k=2015\n",
      "        subtable = pd.DataFrame(np.zeros((0,3)))\n",
      "        while k>2013:\n",
      "            subsubtable = thirdLevelScrap(i);\n",
      "            k = subtable['date'][subsubtable['date'].size-1].tm_year\n",
      "            time.sleep(5)\n",
      "            #section to concatenate leafs of a business\n",
      "            pieces=[subtable,subsubtable]\n",
      "            subtable=pd.concat(pieces)\n",
      "            nextPage = driver.find_element_by_xpath('//*[@id=\"todo-conteudo-resultado\"]/div/div/center/div/ul/li[7]/a').get_attribute(\"href\")\n",
      "            driver.get(nextPage)\n",
      "    except:\n",
      "        print \"An exception screw everything on second level, returning whatever you got\"\n",
      "        return subtable"
     ],
     "language": "python",
     "metadata": {},
     "outputs": [],
     "prompt_number": 105
    },
    {
     "cell_type": "code",
     "collapsed": false,
     "input": [
      "def firstLevelScrap():\n",
      "    try:\n",
      "        table = pd.DataFrame(np.zeros((0,3)))\n",
      "        for i in range(ranking['href'].size):\n",
      "                    driver.get(ranking['href'][i])\n",
      "                    time.sleep(5)\n",
      "                    #Take and get the url \"todas as reclama\u00e7\u00f5es\"\n",
      "                    key = driver.find_element_by_xpath('//*[@id=\"reclamacoes-empresa\"]/div/div[2]/div/div/ul/li/a').get_attribute(\"href\")\n",
      "                    driver.get(key)\n",
      "                    subtable = secondLevelScrap(i)\n",
      "                    #section to concatenate business\n",
      "                    pieces=[table,subtable]\n",
      "                    table=pd.concat(pieces)\n",
      "    except:\n",
      "        print \"An exception screw everything on first level, returning whatever you got\"\n",
      "        return table"
     ],
     "language": "python",
     "metadata": {},
     "outputs": [],
     "prompt_number": 106
    }
   ],
   "metadata": {}
  }
 ]
}