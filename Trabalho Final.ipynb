{
 "cells": [
  {
   "cell_type": "code",
   "execution_count": 525,
   "metadata": {
    "collapsed": false
   },
   "outputs": [
    {
     "name": "stdout",
     "output_type": "stream",
     "text": [
      "Populating the interactive namespace from numpy and matplotlib\n"
     ]
    },
    {
     "name": "stderr",
     "output_type": "stream",
     "text": [
      "WARNING: pylab import has clobbered these variables: ['datetime']\n",
      "`%matplotlib` prevents importing * from pylab and numpy\n"
     ]
    }
   ],
   "source": [
    "import re\n",
    "import pandas as pd\n",
    "import numpy as np\n",
    "import time\n",
    "import os\n",
    "import Image\n",
    "import pytesseract\n",
    "import pylab as pl\n",
    "import matplotlib.pyplot as plt\n",
    "from selenium import webdriver\n",
    "import scipy.stats as ss\n",
    "from selenium.webdriver.common.keys import Keys\n",
    "from time import mktime\n",
    "from datetime import datetime\n",
    "%pylab inline"
   ]
  },
  {
   "cell_type": "code",
   "execution_count": 438,
   "metadata": {
    "collapsed": false
   },
   "outputs": [],
   "source": [
    "driver = webdriver.Firefox()\n",
    "pagina='http://www.reclameaqui.com.br/ranking/'\n",
    "driver.get(pagina)"
   ]
  },
  {
   "cell_type": "code",
   "execution_count": 417,
   "metadata": {
    "collapsed": false
   },
   "outputs": [
    {
     "ename": "KeyboardInterrupt",
     "evalue": "",
     "output_type": "error",
     "traceback": [
      "\u001b[1;31m---------------------------------------------------------------------------\u001b[0m",
      "\u001b[1;31mKeyboardInterrupt\u001b[0m                         Traceback (most recent call last)",
      "\u001b[1;32m<ipython-input-417-687afe974d73>\u001b[0m in \u001b[0;36m<module>\u001b[1;34m()\u001b[0m\n\u001b[0;32m      2\u001b[0m \u001b[0mpagina\u001b[0m\u001b[1;33m=\u001b[0m\u001b[1;34m'http://www.reclameaqui.com.br/ranking/'\u001b[0m\u001b[1;33m\u001b[0m\u001b[0m\n\u001b[0;32m      3\u001b[0m \u001b[0mdriver\u001b[0m\u001b[1;33m.\u001b[0m\u001b[0mget\u001b[0m\u001b[1;33m(\u001b[0m\u001b[0mpagina\u001b[0m\u001b[1;33m)\u001b[0m\u001b[1;33m\u001b[0m\u001b[0m\n\u001b[1;32m----> 4\u001b[1;33m \u001b[0mtime\u001b[0m\u001b[1;33m.\u001b[0m\u001b[0msleep\u001b[0m\u001b[1;33m(\u001b[0m\u001b[1;36m5\u001b[0m\u001b[1;33m)\u001b[0m\u001b[1;33m\u001b[0m\u001b[0m\n\u001b[0m\u001b[0;32m      5\u001b[0m \u001b[0mdriver\u001b[0m\u001b[1;33m.\u001b[0m\u001b[0mget\u001b[0m\u001b[1;33m(\u001b[0m\u001b[0mdriver\u001b[0m\u001b[1;33m.\u001b[0m\u001b[0mfind_element_by_xpath\u001b[0m\u001b[1;33m(\u001b[0m\u001b[1;34m'//*[@id=\"tabela-ranking\"]/tbody/tr[14]/td/div/table[1]/tbody/tr/td/a'\u001b[0m\u001b[1;33m)\u001b[0m\u001b[1;33m.\u001b[0m\u001b[0mget_attribute\u001b[0m\u001b[1;33m(\u001b[0m\u001b[1;34m\"href\"\u001b[0m\u001b[1;33m)\u001b[0m\u001b[1;33m)\u001b[0m\u001b[1;33m\u001b[0m\u001b[0m\n\u001b[0;32m      6\u001b[0m \u001b[0mtime\u001b[0m\u001b[1;33m.\u001b[0m\u001b[0msleep\u001b[0m\u001b[1;33m(\u001b[0m\u001b[1;36m5\u001b[0m\u001b[1;33m)\u001b[0m\u001b[1;33m\u001b[0m\u001b[0m\n",
      "\u001b[1;31mKeyboardInterrupt\u001b[0m: "
     ]
    }
   ],
   "source": [
    "driver = webdriver.Firefox()\n",
    "pagina='http://www.reclameaqui.com.br/ranking/'\n",
    "driver.get(pagina)\n",
    "time.sleep(5)\n",
    "driver.get(driver.find_element_by_xpath('//*[@id=\"tabela-ranking\"]/tbody/tr[14]/td/div/table[1]/tbody/tr/td/a').get_attribute(\"href\"))\n",
    "time.sleep(5)\n",
    "driver.get(driver.find_element_by_xpath('//*[@id=\"reclamacoes-empresa\"]/div/div[2]/div/div/ul/li/a').get_attribute(\"href\"))\n",
    "time.sleep(5)\n",
    "text = driver.find_element_by_xpath('//*[@id=\"reclamacoes-empresa\"]/div/div[2]/div/div[2]/ul/li[1]/span[2]').text\n",
    "print text\n",
    "#driver.get(driver.find_element_by_xpath('//*[@id=\"todo-conteudo-resultado\"]/div/div/center/div/ul/li[7]/a').get_attribute(\"href\"))\n",
    "#time.sleep(5)\n",
    "#breakCaptha(driver)\n",
    "#time.sleep(5)\n",
    "#driver.get('http://www.google.com')\n",
    "#driver.quit()"
   ]
  },
  {
   "cell_type": "code",
   "execution_count": 103,
   "metadata": {
    "collapsed": false
   },
   "outputs": [
    {
     "data": {
      "text/plain": [
       "u'Domingo, 05 de Abril de 2015 - 11:19, Ribeir\\xe3o Preto - SP'"
      ]
     },
     "execution_count": 103,
     "metadata": {},
     "output_type": "execute_result"
    }
   ],
   "source": [
    "driver.find_element_by_class_name(\"dados-reclamacao-fanpage\").text"
   ]
  },
  {
   "cell_type": "code",
   "execution_count": 439,
   "metadata": {
    "collapsed": false
   },
   "outputs": [],
   "source": [
    "def scrapRanking(arg):\n",
    "    try:\n",
    "        for i in range(20):\n",
    "            arg['business'][i]=driver.find_element_by_xpath('//*[@id=\"tabela-ranking\"]/tbody/tr[14]/td/div/table['+str(i+1)+']/tbody/tr/td/a').get_attribute(\"title\")\n",
    "            arg['href'][i]=driver.find_element_by_xpath('//*[@id=\"tabela-ranking\"]/tbody/tr[14]/td/div/table['+str(i+1)+']/tbody/tr/td/a').get_attribute(\"href\")\n",
    "    except:\n",
    "        return arg"
   ]
  },
  {
   "cell_type": "code",
   "execution_count": 440,
   "metadata": {
    "collapsed": false
   },
   "outputs": [
    {
     "name": "stderr",
     "output_type": "stream",
     "text": [
      "/usr/local/lib/python2.7/dist-packages/IPython/kernel/__main__.py:5: SettingWithCopyWarning: \n",
      "A value is trying to be set on a copy of a slice from a DataFrame\n",
      "\n",
      "See the the caveats in the documentation: http://pandas.pydata.org/pandas-docs/stable/indexing.html#indexing-view-versus-copy\n"
     ]
    }
   ],
   "source": [
    "ranking=pd.DataFrame(np.zeros((20,2)))\n",
    "ranking.columns=['business','href']\n",
    "scrapRanking(ranking)"
   ]
  },
  {
   "cell_type": "code",
   "execution_count": 441,
   "metadata": {
    "collapsed": false
   },
   "outputs": [],
   "source": [
    "meses = [u'Janeiro', u'Fevereiro', u'Março', u'Abril', u'Maio', u'Junho', u'Julho', u'Agosto', u'Setembro', u'Outubro', u'Novembro', u'Dezembro']"
   ]
  },
  {
   "cell_type": "code",
   "execution_count": 442,
   "metadata": {
    "collapsed": false
   },
   "outputs": [],
   "source": [
    "def setDate(txt):\n",
    "    try:\n",
    "        for i in range(12):\n",
    "            txt = txt.replace(meses[i],u'0'+str(i+1))\n",
    "            txt = txt.replace(u'de', '-')\n",
    "            match = re.search(r'\\d{2} - \\d{2} - \\d{4} - \\d{2}:\\d{2}', txt)\n",
    "        return match, txt\n",
    "    except:\n",
    "        print 'Is not a String object'"
   ]
  },
  {
   "cell_type": "code",
   "execution_count": 443,
   "metadata": {
    "collapsed": false
   },
   "outputs": [],
   "source": [
    "def getDate(arg):\n",
    "    match,txt = setDate(arg)\n",
    "    date = time.strptime(match.group().replace(\" \",\"\"), '%d-%m-%Y-%H:%M')\n",
    "    return date"
   ]
  },
  {
   "cell_type": "code",
   "execution_count": 444,
   "metadata": {
    "collapsed": false
   },
   "outputs": [],
   "source": [
    "def getPlace(arg):\n",
    "    match, arg = setDate(arg)\n",
    "    arg = arg.replace(match.group(),\"\")\n",
    "    m = re.match(r\"(\\w+)\", arg).group(0)\n",
    "    arg = arg.replace(m,\"\")\n",
    "    match = re.search(r', , ', arg)\n",
    "    arg = arg.replace(match.group(),\"\")\n",
    "    return arg"
   ]
  },
  {
   "cell_type": "code",
   "execution_count": 445,
   "metadata": {
    "collapsed": false
   },
   "outputs": [],
   "source": [
    "def breakCaptha(wd):\n",
    "    try:\n",
    "        oldtab = wd.current_window_handle\n",
    "        body = wd.find_element_by_tag_name(\"body\")\n",
    "        body.send_keys(Keys.CONTROL + 't')\n",
    "        wd.get('http://www.reclameaqui.com.br/indices/lista_reclamacoes/captcha.php')\n",
    "        #You have to create the folder /captcha\n",
    "        wd.save_screenshot(\"../marcim/captcha/screenshot.png\")\n",
    "        wd.find_element_by_tag_name(\"body\").send_keys(Keys.ALT + Keys.NUMPAD1)\n",
    "        wd.switch_to_window(oldtab)\n",
    "        captcha = pytesseract.image_to_string(Image.open('../marcim/captcha/screenshot.png'), config=\"-psm 6\")\n",
    "        cp = driver.find_element_by_name('captcha')\n",
    "        cp.send_keys(captcha)\n",
    "        wd.find_element_by_xpath('//*[@id=\"reclamacoes-empresa\"]/div/div[2]/div/div[2]/ul/div/div/form/input[2]').click()\n",
    "    except:\n",
    "        print \"Didn't broke the captcha\""
   ]
  },
  {
   "cell_type": "markdown",
   "metadata": {},
   "source": [
    "In order to gain performance, we prefer to get a list of URLs in third level of scraping, and then visit them. This already give us O(n³), if we had choose to scrap the fourth level, we would get a O(n⁴) of complexity order."
   ]
  },
  {
   "cell_type": "code",
   "execution_count": 539,
   "metadata": {
    "collapsed": false
   },
   "outputs": [],
   "source": [
    "def thirdLevelScrap(i):\n",
    "    try:\n",
    "        subsubtable = pd.DataFrame(np.zeros((20,4)))\n",
    "        subsubtable.columns=['business','url','date','place']\n",
    "        for j in range(20):\n",
    "            subsubtable['business'][j] = ranking['business'][i]\n",
    "            subsubtable['url'][j] = driver.find_element_by_xpath('//*[@id=\"reclamacoes-empresa\"]/div/div[2]/div/div[2]/ul/li['+str(j+1)+']/h3/a').get_attribute(\"href\")\n",
    "            text = driver.find_element_by_xpath('//*[@id=\"reclamacoes-empresa\"]/div/div[2]/div/div[2]/ul/li['+str(j+1)+']/span[2]').text\n",
    "            subsubtable['place'][j] = getPlace(text)\n",
    "            subsubtable['date'][j] = datetime.datetime(*getDate(text)[:6])\n",
    "        return subsubtable\n",
    "    except:\n",
    "            #Break the captcha and goes on\n",
    "            print 'error, possibly a captcha asking'\n",
    "            breakCaptha(driver)\n",
    "            subsubtable = thirdLevelScrap(i)\n",
    "            return subsubtable"
   ]
  },
  {
   "cell_type": "code",
   "execution_count": 545,
   "metadata": {
    "collapsed": false
   },
   "outputs": [],
   "source": [
    "def secondLevelScrap(i):\n",
    "    try:\n",
    "        k=2015\n",
    "        subtable = pd.DataFrame(np.zeros((1,4)))\n",
    "        subtable.columns=['business','url','date','place']\n",
    "        while k>4:\n",
    "            subsubtable = thirdLevelScrap(i);\n",
    "            k = subsubtable['date'][subsubtable['date'].size-1].day\n",
    "            print k\n",
    "            #section to concatenate leafs of a business\n",
    "            pieces=[subtable,subsubtable]\n",
    "            subtable=pd.concat(pieces)\n",
    "            print subtable['date'][subtable['date'].size-1].day\n",
    "            nextPage = driver.find_element_by_xpath('//*[@id=\"todo-conteudo-resultado\"]/div/div/center/div/ul/li[7]/a').get_attribute(\"href\")\n",
    "            driver.get(nextPage)\n",
    "            time.sleep(5)\n",
    "        return subtable\n",
    "    except:\n",
    "        print \"An exception screw everything on second level, returning whatever you got\"\n",
    "        return subtable"
   ]
  },
  {
   "cell_type": "code",
   "execution_count": 464,
   "metadata": {
    "collapsed": false
   },
   "outputs": [],
   "source": [
    "def firstLevelScrap():\n",
    "    try:\n",
    "        table = pd.DataFrame(np.zeros((20,4)))\n",
    "        table.columns=['business','url','date','place']\n",
    "        for i in range(1):#ranking['href'].size):\n",
    "                    driver.get(ranking['href'][i])\n",
    "                    time.sleep(5)\n",
    "                    #Take and get the url \"todas as reclamações\"\n",
    "                    key = driver.find_element_by_xpath('//*[@id=\"reclamacoes-empresa\"]/div/div[2]/div/div/ul/li/a').get_attribute(\"href\")\n",
    "                    driver.get(key)\n",
    "                    subtable = secondLevelScrap(i)\n",
    "                    #section to concatenate business\n",
    "                    pieces=[table,subtable]\n",
    "                    table=pd.concat(pieces)\n",
    "        return table\n",
    "    except:\n",
    "        print \"An exception screw everything on first level, returning whatever you got\"\n",
    "        return table"
   ]
  },
  {
   "cell_type": "code",
   "execution_count": 546,
   "metadata": {
    "collapsed": false,
    "scrolled": false
   },
   "outputs": [
    {
     "name": "stderr",
     "output_type": "stream",
     "text": [
      "/usr/local/lib/python2.7/dist-packages/IPython/kernel/__main__.py:7: SettingWithCopyWarning: \n",
      "A value is trying to be set on a copy of a slice from a DataFrame\n",
      "\n",
      "See the the caveats in the documentation: http://pandas.pydata.org/pandas-docs/stable/indexing.html#indexing-view-versus-copy\n",
      "/usr/local/lib/python2.7/dist-packages/IPython/kernel/__main__.py:9: SettingWithCopyWarning: \n",
      "A value is trying to be set on a copy of a slice from a DataFrame\n",
      "\n",
      "See the the caveats in the documentation: http://pandas.pydata.org/pandas-docs/stable/indexing.html#indexing-view-versus-copy\n"
     ]
    },
    {
     "name": "stdout",
     "output_type": "stream",
     "text": [
      "5\n",
      "An exception screw everything on second level, returning whatever you got\n"
     ]
    },
    {
     "name": "stderr",
     "output_type": "stream",
     "text": [
      "/usr/local/lib/python2.7/dist-packages/IPython/kernel/__main__.py:10: SettingWithCopyWarning: \n",
      "A value is trying to be set on a copy of a slice from a DataFrame\n",
      "\n",
      "See the the caveats in the documentation: http://pandas.pydata.org/pandas-docs/stable/indexing.html#indexing-view-versus-copy\n"
     ]
    }
   ],
   "source": [
    "driver = webdriver.Firefox()\n",
    "driver.get(ranking['href'][1])\n",
    "key = driver.find_element_by_xpath('//*[@id=\"reclamacoes-empresa\"]/div/div[2]/div/div/ul/li/a').get_attribute(\"href\")\n",
    "driver.get(key)\n",
    "k=secondLevelScrap(1)"
   ]
  },
  {
   "cell_type": "code",
   "execution_count": 522,
   "metadata": {
    "collapsed": false
   },
   "outputs": [
    {
     "ename": "ValueError",
     "evalue": "time data 0.0 does not match format '%d/%m/%Y/%H:%M' (match)",
     "output_type": "error",
     "traceback": [
      "\u001b[1;31m---------------------------------------------------------------------------\u001b[0m",
      "\u001b[1;31mValueError\u001b[0m                                Traceback (most recent call last)",
      "\u001b[1;32m<ipython-input-522-714bcd0bf0c4>\u001b[0m in \u001b[0;36m<module>\u001b[1;34m()\u001b[0m\n\u001b[0;32m      3\u001b[0m \u001b[1;31m#subsubtable['col2'].to_datetime()#df.Y*10000+df.M*100+df.D,format='%Y%m%d')\u001b[0m\u001b[1;33m\u001b[0m\u001b[1;33m\u001b[0m\u001b[0m\n\u001b[0;32m      4\u001b[0m \u001b[1;31m#subsubtable['col2'][3]=getDate(u'Domingo, 05 de Abril de 2015 - 11:19, Ribeir\\xe3o Preto - SP')\u001b[0m\u001b[1;33m\u001b[0m\u001b[1;33m\u001b[0m\u001b[0m\n\u001b[1;32m----> 5\u001b[1;33m \u001b[0msubsubtable\u001b[0m\u001b[1;33m[\u001b[0m\u001b[1;34m'col2'\u001b[0m\u001b[1;33m]\u001b[0m \u001b[1;33m=\u001b[0m \u001b[0mpd\u001b[0m\u001b[1;33m.\u001b[0m\u001b[0mto_datetime\u001b[0m\u001b[1;33m(\u001b[0m\u001b[0msubsubtable\u001b[0m\u001b[1;33m[\u001b[0m\u001b[1;34m'col2'\u001b[0m\u001b[1;33m]\u001b[0m\u001b[1;33m,\u001b[0m \u001b[0mformat\u001b[0m\u001b[1;33m=\u001b[0m \u001b[1;34m\"%d/%m/%Y/%H:%M\"\u001b[0m\u001b[1;33m)\u001b[0m\u001b[1;33m\u001b[0m\u001b[0m\n\u001b[0m\u001b[0;32m      6\u001b[0m \u001b[1;32mprint\u001b[0m \u001b[0msubsubtable\u001b[0m\u001b[1;33m\u001b[0m\u001b[0m\n",
      "\u001b[1;32m/usr/local/lib/python2.7/dist-packages/pandas/tseries/tools.pyc\u001b[0m in \u001b[0;36mto_datetime\u001b[1;34m(arg, errors, dayfirst, utc, box, format, exact, coerce, unit, infer_datetime_format)\u001b[0m\n\u001b[0;32m    311\u001b[0m         \u001b[1;32mreturn\u001b[0m \u001b[0marg\u001b[0m\u001b[1;33m\u001b[0m\u001b[0m\n\u001b[0;32m    312\u001b[0m     \u001b[1;32melif\u001b[0m \u001b[0misinstance\u001b[0m\u001b[1;33m(\u001b[0m\u001b[0marg\u001b[0m\u001b[1;33m,\u001b[0m \u001b[0mSeries\u001b[0m\u001b[1;33m)\u001b[0m\u001b[1;33m:\u001b[0m\u001b[1;33m\u001b[0m\u001b[0m\n\u001b[1;32m--> 313\u001b[1;33m         \u001b[0mvalues\u001b[0m \u001b[1;33m=\u001b[0m \u001b[0m_convert_listlike\u001b[0m\u001b[1;33m(\u001b[0m\u001b[0marg\u001b[0m\u001b[1;33m.\u001b[0m\u001b[0mvalues\u001b[0m\u001b[1;33m,\u001b[0m \u001b[0mFalse\u001b[0m\u001b[1;33m,\u001b[0m \u001b[0mformat\u001b[0m\u001b[1;33m)\u001b[0m\u001b[1;33m\u001b[0m\u001b[0m\n\u001b[0m\u001b[0;32m    314\u001b[0m         \u001b[1;32mreturn\u001b[0m \u001b[0mSeries\u001b[0m\u001b[1;33m(\u001b[0m\u001b[0mvalues\u001b[0m\u001b[1;33m,\u001b[0m \u001b[0mindex\u001b[0m\u001b[1;33m=\u001b[0m\u001b[0marg\u001b[0m\u001b[1;33m.\u001b[0m\u001b[0mindex\u001b[0m\u001b[1;33m,\u001b[0m \u001b[0mname\u001b[0m\u001b[1;33m=\u001b[0m\u001b[0marg\u001b[0m\u001b[1;33m.\u001b[0m\u001b[0mname\u001b[0m\u001b[1;33m)\u001b[0m\u001b[1;33m\u001b[0m\u001b[0m\n\u001b[0;32m    315\u001b[0m     \u001b[1;32melif\u001b[0m \u001b[0mcom\u001b[0m\u001b[1;33m.\u001b[0m\u001b[0mis_list_like\u001b[0m\u001b[1;33m(\u001b[0m\u001b[0marg\u001b[0m\u001b[1;33m)\u001b[0m\u001b[1;33m:\u001b[0m\u001b[1;33m\u001b[0m\u001b[0m\n",
      "\u001b[1;32m/usr/local/lib/python2.7/dist-packages/pandas/tseries/tools.pyc\u001b[0m in \u001b[0;36m_convert_listlike\u001b[1;34m(arg, box, format)\u001b[0m\n\u001b[0;32m    304\u001b[0m                 \u001b[1;32mreturn\u001b[0m \u001b[0mDatetimeIndex\u001b[0m\u001b[1;33m.\u001b[0m\u001b[0m_simple_new\u001b[0m\u001b[1;33m(\u001b[0m\u001b[0mvalues\u001b[0m\u001b[1;33m,\u001b[0m \u001b[0mNone\u001b[0m\u001b[1;33m,\u001b[0m \u001b[0mtz\u001b[0m\u001b[1;33m=\u001b[0m\u001b[0mtz\u001b[0m\u001b[1;33m)\u001b[0m\u001b[1;33m\u001b[0m\u001b[0m\n\u001b[0;32m    305\u001b[0m             \u001b[1;32mexcept\u001b[0m \u001b[1;33m(\u001b[0m\u001b[0mValueError\u001b[0m\u001b[1;33m,\u001b[0m \u001b[0mTypeError\u001b[0m\u001b[1;33m)\u001b[0m\u001b[1;33m:\u001b[0m\u001b[1;33m\u001b[0m\u001b[0m\n\u001b[1;32m--> 306\u001b[1;33m                 \u001b[1;32mraise\u001b[0m \u001b[0me\u001b[0m\u001b[1;33m\u001b[0m\u001b[0m\n\u001b[0m\u001b[0;32m    307\u001b[0m \u001b[1;33m\u001b[0m\u001b[0m\n\u001b[0;32m    308\u001b[0m     \u001b[1;32mif\u001b[0m \u001b[0marg\u001b[0m \u001b[1;32mis\u001b[0m \u001b[0mNone\u001b[0m\u001b[1;33m:\u001b[0m\u001b[1;33m\u001b[0m\u001b[0m\n",
      "\u001b[1;31mValueError\u001b[0m: time data 0.0 does not match format '%d/%m/%Y/%H:%M' (match)"
     ]
    }
   ],
   "source": [
    "subsubtable = pd.DataFrame(np.zeros((20,4)))\n",
    "subsubtable.columns=['col1','col2','col3','col4']\n",
    "#subsubtable['col2'].to_datetime()#df.Y*10000+df.M*100+df.D,format='%Y%m%d')\n",
    "#subsubtable['col2'][3]=getDate(u'Domingo, 05 de Abril de 2015 - 11:19, Ribeir\\xe3o Preto - SP')\n",
    "subsubtable['col2'] = pd.to_datetime(subsubtable['col2'], format= \"%d/%m/%Y/%H:%M\")\n",
    "print subsubtable"
   ]
  },
  {
   "cell_type": "code",
   "execution_count": 541,
   "metadata": {
    "collapsed": false
   },
   "outputs": [
    {
     "data": {
      "text/plain": [
       "5"
      ]
     },
     "execution_count": 541,
     "metadata": {},
     "output_type": "execute_result"
    }
   ],
   "source": [
    "date = getDate(u'Domingo, 05 de Abril de 2015 - 11:19, Ribeir\\xe3o Preto - SP')\n",
    "dt = datetime.datetime(*date[:6])\n",
    "dt.day"
   ]
  },
  {
   "cell_type": "code",
   "execution_count": 401,
   "metadata": {
    "collapsed": false
   },
   "outputs": [],
   "source": [
    "ranking2=pd.DataFrame(np.zeros((1,2)))\n",
    "ranking2.columns=['business','href']\n",
    "pieces=[ranking,ranking2]\n",
    "ranking2 = pd.concat(pieces)"
   ]
  },
  {
   "cell_type": "code",
   "execution_count": 450,
   "metadata": {
    "collapsed": false
   },
   "outputs": [
    {
     "name": "stdout",
     "output_type": "stream",
     "text": [
      "<bound method DataFrame.get_values of                                     business  \\\n",
      "0  Net Serviços (tv, Banda Larga e Telefone)   \n",
      "\n",
      "                                                href  \n",
      "0  http://www.reclameaqui.com.br/indices/902/net-...  >\n"
     ]
    }
   ],
   "source": [
    "print ranking[:1].get_values"
   ]
  },
  {
   "cell_type": "code",
   "execution_count": 373,
   "metadata": {
    "collapsed": true
   },
   "outputs": [],
   "source": [
    "df = pd.DataFrame(np.random.randn(10, 4))\n",
    "df.columns=['business','url','date','place']"
   ]
  },
  {
   "cell_type": "code",
   "execution_count": 374,
   "metadata": {
    "collapsed": false
   },
   "outputs": [
    {
     "data": {
      "text/html": [
       "<div style=\"max-height:1000px;max-width:1500px;overflow:auto;\">\n",
       "<table border=\"1\" class=\"dataframe\">\n",
       "  <thead>\n",
       "    <tr style=\"text-align: right;\">\n",
       "      <th></th>\n",
       "      <th>business</th>\n",
       "      <th>url</th>\n",
       "      <th>date</th>\n",
       "      <th>place</th>\n",
       "    </tr>\n",
       "  </thead>\n",
       "  <tbody>\n",
       "    <tr>\n",
       "      <th>0</th>\n",
       "      <td>-0.061974</td>\n",
       "      <td> 1.022713</td>\n",
       "      <td> 2.232056</td>\n",
       "      <td>-0.543028</td>\n",
       "    </tr>\n",
       "    <tr>\n",
       "      <th>1</th>\n",
       "      <td>-2.281711</td>\n",
       "      <td> 0.754404</td>\n",
       "      <td> 2.620714</td>\n",
       "      <td> 1.159897</td>\n",
       "    </tr>\n",
       "    <tr>\n",
       "      <th>2</th>\n",
       "      <td> 0.312740</td>\n",
       "      <td>-0.909827</td>\n",
       "      <td> 0.380729</td>\n",
       "      <td>-0.502907</td>\n",
       "    </tr>\n",
       "    <tr>\n",
       "      <th>3</th>\n",
       "      <td>-0.849179</td>\n",
       "      <td>-0.171854</td>\n",
       "      <td>-1.243311</td>\n",
       "      <td>-1.332489</td>\n",
       "    </tr>\n",
       "    <tr>\n",
       "      <th>4</th>\n",
       "      <td> 1.234445</td>\n",
       "      <td>-2.380747</td>\n",
       "      <td>-0.574468</td>\n",
       "      <td> 0.236022</td>\n",
       "    </tr>\n",
       "    <tr>\n",
       "      <th>5</th>\n",
       "      <td>-1.450001</td>\n",
       "      <td>-0.164806</td>\n",
       "      <td> 0.020823</td>\n",
       "      <td> 0.300747</td>\n",
       "    </tr>\n",
       "    <tr>\n",
       "      <th>6</th>\n",
       "      <td>-0.537417</td>\n",
       "      <td>-1.104948</td>\n",
       "      <td> 1.790365</td>\n",
       "      <td> 0.352829</td>\n",
       "    </tr>\n",
       "    <tr>\n",
       "      <th>7</th>\n",
       "      <td>-0.758693</td>\n",
       "      <td>-0.607587</td>\n",
       "      <td> 0.013375</td>\n",
       "      <td>-2.052865</td>\n",
       "    </tr>\n",
       "    <tr>\n",
       "      <th>8</th>\n",
       "      <td> 0.209966</td>\n",
       "      <td>-0.714054</td>\n",
       "      <td> 0.511221</td>\n",
       "      <td> 0.254405</td>\n",
       "    </tr>\n",
       "    <tr>\n",
       "      <th>9</th>\n",
       "      <td>-0.630053</td>\n",
       "      <td> 0.838657</td>\n",
       "      <td> 0.035113</td>\n",
       "      <td> 0.686276</td>\n",
       "    </tr>\n",
       "  </tbody>\n",
       "</table>\n",
       "</div>"
      ],
      "text/plain": [
       "   business       url      date     place\n",
       "0 -0.061974  1.022713  2.232056 -0.543028\n",
       "1 -2.281711  0.754404  2.620714  1.159897\n",
       "2  0.312740 -0.909827  0.380729 -0.502907\n",
       "3 -0.849179 -0.171854 -1.243311 -1.332489\n",
       "4  1.234445 -2.380747 -0.574468  0.236022\n",
       "5 -1.450001 -0.164806  0.020823  0.300747\n",
       "6 -0.537417 -1.104948  1.790365  0.352829\n",
       "7 -0.758693 -0.607587  0.013375 -2.052865\n",
       "8  0.209966 -0.714054  0.511221  0.254405\n",
       "9 -0.630053  0.838657  0.035113  0.686276"
      ]
     },
     "execution_count": 374,
     "metadata": {},
     "output_type": "execute_result"
    }
   ],
   "source": [
    "df"
   ]
  },
  {
   "cell_type": "code",
   "execution_count": 387,
   "metadata": {
    "collapsed": true
   },
   "outputs": [],
   "source": [
    "pieces = [df[:2], df[3:5], df]"
   ]
  },
  {
   "cell_type": "code",
   "execution_count": 388,
   "metadata": {
    "collapsed": true
   },
   "outputs": [],
   "source": [
    "concatenated = pd.concat(pieces)"
   ]
  },
  {
   "cell_type": "code",
   "execution_count": 389,
   "metadata": {
    "collapsed": false
   },
   "outputs": [
    {
     "data": {
      "text/html": [
       "<div style=\"max-height:1000px;max-width:1500px;overflow:auto;\">\n",
       "<table border=\"1\" class=\"dataframe\">\n",
       "  <thead>\n",
       "    <tr style=\"text-align: right;\">\n",
       "      <th></th>\n",
       "      <th>business</th>\n",
       "      <th>url</th>\n",
       "      <th>date</th>\n",
       "      <th>place</th>\n",
       "    </tr>\n",
       "  </thead>\n",
       "  <tbody>\n",
       "    <tr>\n",
       "      <th>0</th>\n",
       "      <td>-0.061974</td>\n",
       "      <td> 1.022713</td>\n",
       "      <td> 2.232056</td>\n",
       "      <td>-0.543028</td>\n",
       "    </tr>\n",
       "    <tr>\n",
       "      <th>1</th>\n",
       "      <td>-2.281711</td>\n",
       "      <td> 0.754404</td>\n",
       "      <td> 2.620714</td>\n",
       "      <td> 1.159897</td>\n",
       "    </tr>\n",
       "    <tr>\n",
       "      <th>3</th>\n",
       "      <td>-0.849179</td>\n",
       "      <td>-0.171854</td>\n",
       "      <td>-1.243311</td>\n",
       "      <td>-1.332489</td>\n",
       "    </tr>\n",
       "    <tr>\n",
       "      <th>4</th>\n",
       "      <td> 1.234445</td>\n",
       "      <td>-2.380747</td>\n",
       "      <td>-0.574468</td>\n",
       "      <td> 0.236022</td>\n",
       "    </tr>\n",
       "    <tr>\n",
       "      <th>0</th>\n",
       "      <td>-0.061974</td>\n",
       "      <td> 1.022713</td>\n",
       "      <td> 2.232056</td>\n",
       "      <td>-0.543028</td>\n",
       "    </tr>\n",
       "    <tr>\n",
       "      <th>1</th>\n",
       "      <td>-2.281711</td>\n",
       "      <td> 0.754404</td>\n",
       "      <td> 2.620714</td>\n",
       "      <td> 1.159897</td>\n",
       "    </tr>\n",
       "    <tr>\n",
       "      <th>2</th>\n",
       "      <td> 0.312740</td>\n",
       "      <td>-0.909827</td>\n",
       "      <td> 0.380729</td>\n",
       "      <td>-0.502907</td>\n",
       "    </tr>\n",
       "    <tr>\n",
       "      <th>3</th>\n",
       "      <td>-0.849179</td>\n",
       "      <td>-0.171854</td>\n",
       "      <td>-1.243311</td>\n",
       "      <td>-1.332489</td>\n",
       "    </tr>\n",
       "    <tr>\n",
       "      <th>4</th>\n",
       "      <td> 1.234445</td>\n",
       "      <td>-2.380747</td>\n",
       "      <td>-0.574468</td>\n",
       "      <td> 0.236022</td>\n",
       "    </tr>\n",
       "    <tr>\n",
       "      <th>5</th>\n",
       "      <td>-1.450001</td>\n",
       "      <td>-0.164806</td>\n",
       "      <td> 0.020823</td>\n",
       "      <td> 0.300747</td>\n",
       "    </tr>\n",
       "    <tr>\n",
       "      <th>6</th>\n",
       "      <td>-0.537417</td>\n",
       "      <td>-1.104948</td>\n",
       "      <td> 1.790365</td>\n",
       "      <td> 0.352829</td>\n",
       "    </tr>\n",
       "    <tr>\n",
       "      <th>7</th>\n",
       "      <td>-0.758693</td>\n",
       "      <td>-0.607587</td>\n",
       "      <td> 0.013375</td>\n",
       "      <td>-2.052865</td>\n",
       "    </tr>\n",
       "    <tr>\n",
       "      <th>8</th>\n",
       "      <td> 0.209966</td>\n",
       "      <td>-0.714054</td>\n",
       "      <td> 0.511221</td>\n",
       "      <td> 0.254405</td>\n",
       "    </tr>\n",
       "    <tr>\n",
       "      <th>9</th>\n",
       "      <td>-0.630053</td>\n",
       "      <td> 0.838657</td>\n",
       "      <td> 0.035113</td>\n",
       "      <td> 0.686276</td>\n",
       "    </tr>\n",
       "  </tbody>\n",
       "</table>\n",
       "</div>"
      ],
      "text/plain": [
       "   business       url      date     place\n",
       "0 -0.061974  1.022713  2.232056 -0.543028\n",
       "1 -2.281711  0.754404  2.620714  1.159897\n",
       "3 -0.849179 -0.171854 -1.243311 -1.332489\n",
       "4  1.234445 -2.380747 -0.574468  0.236022\n",
       "0 -0.061974  1.022713  2.232056 -0.543028\n",
       "1 -2.281711  0.754404  2.620714  1.159897\n",
       "2  0.312740 -0.909827  0.380729 -0.502907\n",
       "3 -0.849179 -0.171854 -1.243311 -1.332489\n",
       "4  1.234445 -2.380747 -0.574468  0.236022\n",
       "5 -1.450001 -0.164806  0.020823  0.300747\n",
       "6 -0.537417 -1.104948  1.790365  0.352829\n",
       "7 -0.758693 -0.607587  0.013375 -2.052865\n",
       "8  0.209966 -0.714054  0.511221  0.254405\n",
       "9 -0.630053  0.838657  0.035113  0.686276"
      ]
     },
     "execution_count": 389,
     "metadata": {},
     "output_type": "execute_result"
    }
   ],
   "source": [
    "concatenated"
   ]
  },
  {
   "cell_type": "code",
   "execution_count": null,
   "metadata": {
    "collapsed": true
   },
   "outputs": [],
   "source": []
  },
  {
   "cell_type": "code",
   "execution_count": null,
   "metadata": {
    "collapsed": true
   },
   "outputs": [],
   "source": []
  }
 ],
 "metadata": {
  "kernelspec": {
   "display_name": "Python 2",
   "language": "python",
   "name": "python2"
  },
  "language_info": {
   "codemirror_mode": {
    "name": "ipython",
    "version": 2
   },
   "file_extension": ".py",
   "mimetype": "text/x-python",
   "name": "python",
   "nbconvert_exporter": "python",
   "pygments_lexer": "ipython2",
   "version": "2.7.6"
  }
 },
 "nbformat": 4,
 "nbformat_minor": 0
}
