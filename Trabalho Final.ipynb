{
 "metadata": {
  "name": ""
 },
 "nbformat": 3,
 "nbformat_minor": 0,
 "worksheets": [
  {
   "cells": [
    {
     "cell_type": "code",
     "collapsed": false,
     "input": [
      "import re\n",
      "import pandas as pd\n",
      "import numpy as np\n",
      "import time\n",
      "import os \n",
      "import pylab as pl\n",
      "import matplotlib.pyplot as plt\n",
      "from selenium import webdriver\n",
      "import scipy.stats as ss\n",
      "from selenium.webdriver.common.keys import Keys\n",
      "%pylab inline"
     ],
     "language": "python",
     "metadata": {},
     "outputs": [
      {
       "output_type": "stream",
       "stream": "stdout",
       "text": [
        "Populating the interactive namespace from numpy and matplotlib\n"
       ]
      }
     ],
     "prompt_number": 439
    },
    {
     "cell_type": "code",
     "collapsed": false,
     "input": [
      "driver = webdriver.Firefox()"
     ],
     "language": "python",
     "metadata": {},
     "outputs": [],
     "prompt_number": 440
    },
    {
     "cell_type": "code",
     "collapsed": false,
     "input": [
      "pagina='http://www.reclameaqui.com.br/ranking/'"
     ],
     "language": "python",
     "metadata": {},
     "outputs": [],
     "prompt_number": 441
    },
    {
     "cell_type": "code",
     "collapsed": false,
     "input": [
      "driver.get(pagina)"
     ],
     "language": "python",
     "metadata": {},
     "outputs": [],
     "prompt_number": 442
    },
    {
     "cell_type": "code",
     "collapsed": false,
     "input": [
      "ranking=pd.DataFrame(np.zeros((0,2)))"
     ],
     "language": "python",
     "metadata": {},
     "outputs": [],
     "prompt_number": 443
    },
    {
     "cell_type": "code",
     "collapsed": false,
     "input": [
      "ranking.columns=['business','href']"
     ],
     "language": "python",
     "metadata": {},
     "outputs": [],
     "prompt_number": 444
    },
    {
     "cell_type": "code",
     "collapsed": false,
     "input": [
      "def scrapRanking(arg):\n",
      "    try:\n",
      "        for i in range(20):\n",
      "            arg['business'][i]=driver.find_element_by_xpath('//*[@id=\"tabela-ranking\"]/tbody/tr[14]/td/div/table['+str(i+1)+']/tbody/tr/td/a').get_attribute(\"title\")\n",
      "            arg['href'][i]=driver.find_element_by_xpath('//*[@id=\"tabela-ranking\"]/tbody/tr[14]/td/div/table['+str(i+1)+']/tbody/tr/td/a').get_attribute(\"href\")\n",
      "    except:\n",
      "        return arg"
     ],
     "language": "python",
     "metadata": {},
     "outputs": [],
     "prompt_number": 445
    },
    {
     "cell_type": "code",
     "collapsed": false,
     "input": [
      "scrapRanking(ranking)"
     ],
     "language": "python",
     "metadata": {},
     "outputs": [],
     "prompt_number": 446
    },
    {
     "cell_type": "code",
     "collapsed": false,
     "input": [
      "ranking['business'][19]"
     ],
     "language": "python",
     "metadata": {},
     "outputs": [
      {
       "metadata": {},
       "output_type": "pyout",
       "prompt_number": 447,
       "text": [
        "u'Americanas.com - Loja Virtual'"
       ]
      }
     ],
     "prompt_number": 447
    },
    {
     "cell_type": "code",
     "collapsed": false,
     "input": [
      "meses = [u'Janeiro', u'Fevereiro', u'Mar\u00e7o', u'Abril', u'Maio', u'Junho', u'Julho', u'Agosto', u'Setembro', u'Outubro', u'Novembro', u'Dezembro']"
     ],
     "language": "python",
     "metadata": {},
     "outputs": [],
     "prompt_number": 448
    },
    {
     "cell_type": "code",
     "collapsed": false,
     "input": [
      "def formatDate(txt):\n",
      "    for i in range(12):\n",
      "        txt = txt.replace(meses[i],u'0'+str(i+1))\n",
      "        txt = txt.replace(u'de', '-')\n",
      "        match = re.search(r'\\d{2} - \\d{2} - \\d{4} - \\d{2}:\\d{2}', txt)\n",
      "    return match, txt"
     ],
     "language": "python",
     "metadata": {},
     "outputs": [],
     "prompt_number": 449
    },
    {
     "cell_type": "code",
     "collapsed": false,
     "input": [
      "def setDate(arg):\n",
      "    match,txt = formatDate(arg)\n",
      "    date = time.strptime(match.group().replace(\" \",\"\"), '%d-%m-%Y-%H:%M')\n",
      "    return date"
     ],
     "language": "python",
     "metadata": {},
     "outputs": [],
     "prompt_number": 450
    },
    {
     "cell_type": "code",
     "collapsed": false,
     "input": [
      "def setPlace(arg):\n",
      "    match, arg = formatDate(arg)\n",
      "    arg = arg.replace(match.group(),\"\")\n",
      "    m = re.match(r\"(\\w+)-(\\w+)\", text).group(0)\n",
      "    arg = arg.replace(m,\"\")\n",
      "    match = re.search(r', , ', arg)\n",
      "    arg = arg.replace(match.group(),\"\")\n",
      "    return arg"
     ],
     "language": "python",
     "metadata": {},
     "outputs": [],
     "prompt_number": 451
    },
    {
     "cell_type": "code",
     "collapsed": false,
     "input": [
      "def reclameScraping(arg,n):\n",
      "    for i in range(n,len(arg)):\n",
      "        driver.get(arg['href'][i])\n",
      "        time.sleep(5)\n",
      "        reclameTable = pd.DataFrame(np.zeros((0,3)))\n",
      "        key = driver.find_element_by_xpath('//*[@id=\"reclamacoes-empresa\"]/div/div[2]/div/div/ul/li/a').get_attribute(\"href\")\n",
      "        driver.get(key)\n",
      "        for j in range(20):\n",
      "            reclameTable['business'][j] = arg['business'][i]\n",
      "            reclameTable['url'][j] = driver.find_element_by_xpath('//*[@id=\"reclamacoes-empresa\"]/div/div[2]/div/div[2]/ul/li['+str(j+1)+']/h3/a').get_attribute(\"href\")\n",
      "            text = driver.find_element_by_xpath('//*[@id=\"reclamacoes-empresa\"]/div/div[2]/div/div[2]/ul/li['+str(j+1)+']/span')\n",
      "            reclameTable['date'][j] = setDate(text)\n",
      "            reclameTable['place'][j] = setPlace(text)\n",
      "        return reclameTable"
     ],
     "language": "python",
     "metadata": {},
     "outputs": [],
     "prompt_number": 457
    },
    {
     "cell_type": "code",
     "collapsed": false,
     "input": [
      "text = u'Quinta-feira, 26 de Mar\u00e7o de 2015 - 21:58, S\u00e3o Carlos - SP'\n",
      "a=setDate(text)\n",
      "a.tm_hour"
     ],
     "language": "python",
     "metadata": {},
     "outputs": [
      {
       "metadata": {},
       "output_type": "pyout",
       "prompt_number": 453,
       "text": [
        "21"
       ]
      }
     ],
     "prompt_number": 453
    },
    {
     "cell_type": "code",
     "collapsed": false,
     "input": [
      "re.match(r\"(\\w+)-(\\w+)\", text).group(0)"
     ],
     "language": "python",
     "metadata": {},
     "outputs": [
      {
       "metadata": {},
       "output_type": "pyout",
       "prompt_number": 454,
       "text": [
        "u'Quinta-feira'"
       ]
      }
     ],
     "prompt_number": 454
    },
    {
     "cell_type": "code",
     "collapsed": false,
     "input": [
      "date=setPlace(text)"
     ],
     "language": "python",
     "metadata": {},
     "outputs": [],
     "prompt_number": 455
    },
    {
     "cell_type": "code",
     "collapsed": false,
     "input": [
      "date"
     ],
     "language": "python",
     "metadata": {},
     "outputs": [
      {
       "metadata": {},
       "output_type": "pyout",
       "prompt_number": 456,
       "text": [
        "u'S\\xe3o Carlos - SP'"
       ]
      }
     ],
     "prompt_number": 456
    },
    {
     "cell_type": "code",
     "collapsed": false,
     "input": [
      "k=reclameScraping(ranking,18)"
     ],
     "language": "python",
     "metadata": {},
     "outputs": [],
     "prompt_number": 459
    },
    {
     "cell_type": "code",
     "collapsed": false,
     "input": [
      "k[1]"
     ],
     "language": "python",
     "metadata": {},
     "outputs": [
      {
       "ename": "TypeError",
       "evalue": "'NoneType' object has no attribute '__getitem__'",
       "output_type": "pyerr",
       "traceback": [
        "\u001b[0;31m---------------------------------------------------------------------------\u001b[0m\n\u001b[0;31mTypeError\u001b[0m                                 Traceback (most recent call last)",
        "\u001b[0;32m<ipython-input-461-e05e553955e2>\u001b[0m in \u001b[0;36m<module>\u001b[0;34m()\u001b[0m\n\u001b[0;32m----> 1\u001b[0;31m \u001b[0mk\u001b[0m\u001b[0;34m[\u001b[0m\u001b[0;36m1\u001b[0m\u001b[0;34m]\u001b[0m\u001b[0;34m\u001b[0m\u001b[0m\n\u001b[0m",
        "\u001b[0;31mTypeError\u001b[0m: 'NoneType' object has no attribute '__getitem__'"
       ]
      }
     ],
     "prompt_number": 461
    },
    {
     "cell_type": "code",
     "collapsed": false,
     "input": [],
     "language": "python",
     "metadata": {},
     "outputs": []
    }
   ],
   "metadata": {}
  }
 ]
}